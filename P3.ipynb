{
 "cells": [
  {
   "cell_type": "markdown",
   "id": "80e8327d",
   "metadata": {},
   "source": [
    "## Problem 2\n",
    "### Milad Heidari\n",
    "### Student Number: 98101469"
   ]
  },
  {
   "cell_type": "code",
   "execution_count": 1,
   "id": "887e0777",
   "metadata": {},
   "outputs": [],
   "source": [
    "import torch\n",
    "import math\n",
    "import numpy as np\n",
    "import pandas as pd\n",
    "import seaborn as sns\n",
    "import matplotlib.pyplot as plt\n",
    "import torch.nn as nn\n",
    "from torch.utils.data import Dataset, DataLoader, random_split\n",
    "from torchvision.transforms import Lambda"
   ]
  },
  {
   "cell_type": "code",
   "execution_count": 2,
   "id": "e5e4f8d0",
   "metadata": {},
   "outputs": [
    {
     "data": {
      "text/plain": [
       "'cuda'"
      ]
     },
     "execution_count": 2,
     "metadata": {},
     "output_type": "execute_result"
    }
   ],
   "source": [
    "# set device to cuda if available\n",
    "device = 'cuda' if torch.cuda.is_available() else 'cpu'\n",
    "device"
   ]
  },
  {
   "cell_type": "code",
   "execution_count": 3,
   "id": "3bff451e",
   "metadata": {},
   "outputs": [],
   "source": [
    "# create a custom dataset\n",
    "class CustomDataset(Dataset):\n",
    "    def __init__(self, examples, labels, transform=None, target_transform=None):\n",
    "        self.examples = examples\n",
    "        self.labels = labels\n",
    "        self.transform = transform\n",
    "        self.target_transform = target_transform\n",
    "        \n",
    "    def __len__(self):\n",
    "        return len(self.labels)\n",
    "    \n",
    "    def __getitem__(self, idx):\n",
    "        example = self.examples.iloc[idx, :]\n",
    "        label = self.labels.iloc[idx]\n",
    "        if self.transform is not None:\n",
    "            example = self.transform(example)\n",
    "        if self.target_transform is not None:\n",
    "            label = self.target_transform(label)\n",
    "            \n",
    "        return example, label"
   ]
  },
  {
   "cell_type": "code",
   "execution_count": 4,
   "id": "318c83b6",
   "metadata": {},
   "outputs": [],
   "source": [
    "# creating training and test set\n",
    "df_train = pd.read_csv('data/Q3_train.csv')\n",
    "df_test = pd.read_csv('data/Q3_test.csv')\n",
    "\n",
    "train_set = CustomDataset(\n",
    "    df_train.iloc[:, 1:],\n",
    "    df_train.iloc[:, 0],\n",
    "    transform=lambda x: torch.tensor(x).reshape((int(np.sqrt(len(x))), -1)),\n",
    ")\n",
    "\n",
    "test_set = CustomDataset(\n",
    "    df_test.iloc[:, 1:],\n",
    "    df_test.iloc[:, 0],\n",
    "    transform=lambda x: torch.tensor(x).reshape((int(np.sqrt(len(x))), -1)),\n",
    ")"
   ]
  },
  {
   "cell_type": "markdown",
   "id": "dc489d1d",
   "metadata": {},
   "source": [
    "#### A)"
   ]
  },
  {
   "cell_type": "code",
   "execution_count": 5,
   "id": "2eeb7eb6",
   "metadata": {},
   "outputs": [
    {
     "data": {
      "image/png": "[encoded data removed]",
      "text/plain": [
       "<Figure size 800x600 with 9 Axes>"
      ]
     },
     "metadata": {},
     "output_type": "display_data"
    }
   ],
   "source": [
    "sample_dataloader = DataLoader(train_set, shuffle=True)\n",
    "data_iterator = iter(sample_dataloader)\n",
    "\n",
    "fig = plt.figure(figsize=(8, 6))\n",
    "for i in range(1, 10):\n",
    "    X, y = next(data_iterator)\n",
    "    ax = fig.add_subplot(3, 3, i)\n",
    "    ax.set_axis_off()\n",
    "    ax.imshow(X.squeeze(), cmap='gray')\n",
    "    ax.set_title(chr(65 + y), y=-0.2)"
   ]
  },
  {
   "cell_type": "code",
   "execution_count": 6,
   "id": "d074d692",
   "metadata": {},
   "outputs": [],
   "source": [
    "class NeuralNetwork(nn.Module):\n",
    "    def __init__(self):\n",
    "        super().__init__()\n",
    "        self.flatten = nn.Flatten()\n",
    "        self.linear_relu_stack = nn.Sequential(\n",
    "            nn.Linear(784, 500),\n",
    "            nn.ReLU(),\n",
    "            nn.Linear(500, 250),\n",
    "            nn.ReLU(),\n",
    "            nn.Linear(250, 60),\n",
    "            nn.ReLU(),\n",
    "            nn.Linear(60, 26),\n",
    "        )\n",
    "        self.sigmoid = nn.Sigmoid()\n",
    "        \n",
    "    def forward(self, x):\n",
    "        x = self.flatten(x)\n",
    "        x = self.linear_relu_stack(x)\n",
    "        x = self.sigmoid(x)\n",
    "        return x"
   ]
  },
  {
   "cell_type": "code",
   "execution_count": 7,
   "id": "b5e27617",
   "metadata": {},
   "outputs": [
    {
     "data": {
      "text/plain": [
       "NeuralNetwork(\n",
       "  (flatten): Flatten(start_dim=1, end_dim=-1)\n",
       "  (linear_relu_stack): Sequential(\n",
       "    (0): Linear(in_features=784, out_features=500, bias=True)\n",
       "    (1): ReLU()\n",
       "    (2): Linear(in_features=500, out_features=250, bias=True)\n",
       "    (3): ReLU()\n",
       "    (4): Linear(in_features=250, out_features=60, bias=True)\n",
       "    (5): ReLU()\n",
       "    (6): Linear(in_features=60, out_features=26, bias=True)\n",
       "  )\n",
       "  (sigmoid): Sigmoid()\n",
       ")"
      ]
     },
     "execution_count": 7,
     "metadata": {},
     "output_type": "execute_result"
    }
   ],
   "source": [
    "# create an instance of the model defined above\n",
    "model = NeuralNetwork().to(device)\n",
    "model.train()"
   ]
  },
  {
   "cell_type": "code",
   "execution_count": 8,
   "id": "b0e00461",
   "metadata": {},
   "outputs": [],
   "source": [
    "# setting hyperparameters\n",
    "learning_rate = 1e-5\n",
    "batch_size = 64\n",
    "epochs = 25"
   ]
  },
  {
   "cell_type": "code",
   "execution_count": 9,
   "id": "bab9baf3",
   "metadata": {},
   "outputs": [],
   "source": [
    "# initialize the cost function and choose an optimizer\n",
    "loss_fn = nn.CrossEntropyLoss()\n",
    "optimizer = torch.optim.Adam(model.parameters(), lr=learning_rate)"
   ]
  },
  {
   "cell_type": "code",
   "execution_count": 10,
   "id": "c90e0c89",
   "metadata": {},
   "outputs": [],
   "source": [
    "def train_loop(dataloader, model, loss_fn, optimizer, train_losses=None, save_losses=False):\n",
    "    size = len(dataloader.dataset)\n",
    "    num_correct = 0\n",
    "    for batch_num, (X, y) in enumerate(dataloader):\n",
    "        # forward prop\n",
    "        X = X.to(torch.float32).to(device)\n",
    "        y = y.to(device)\n",
    "        y_pred = model(X)\n",
    "        loss = loss_fn(y_pred, y)\n",
    "        num_correct += (y_pred.argmax(dim=1) == y).sum().item()\n",
    "        # back prop\n",
    "        optimizer.zero_grad()\n",
    "        loss.backward()\n",
    "        optimizer.step()\n",
    "        \n",
    "        if save_losses:\n",
    "            if batch_num % 100 == 0:\n",
    "                train_losses.append(loss.item())\n",
    "        \n",
    "    accuracy = num_correct / size\n",
    "    print(f'train_loss: {loss.item()}')\n",
    "    print(f'Train Accuracy: {np.round(accuracy*100,2)}%')\n",
    "    \n",
    "            \n",
    "def test_loop(dataloader, model, loss_fn, test_losses=None, save_losses=False):\n",
    "    size = len(dataloader.dataset)\n",
    "    num_correct = 0\n",
    "    with torch.no_grad():\n",
    "        for batch_num, (X, y) in enumerate(dataloader):\n",
    "            X = X.to(torch.float32).to(device)\n",
    "            y = y.to(device)\n",
    "            y_pred = model(X)\n",
    "            loss = loss_fn(y_pred, y)\n",
    "            num_correct += (y_pred.argmax(dim=1) == y).sum().item()\n",
    "            \n",
    "            if save_losses:\n",
    "                if batch_num % 100 == 0:\n",
    "                    test_losses.append(loss.item())\n",
    "        \n",
    "                        \n",
    "    accuracy = num_correct / size\n",
    "    print(f'Test Accuracy: {np.round(accuracy*100, 2)}%')"
   ]
  },
  {
   "cell_type": "code",
   "execution_count": 11,
   "id": "762ba09e",
   "metadata": {},
   "outputs": [
    {
     "name": "stdout",
     "output_type": "stream",
     "text": [
      "epoch 1 ==================================================\n",
      "train_loss: 2.8840887546539307\n",
      "Train Accuracy: 4.36%\n",
      "Test Accuracy: 3.42%\n",
      "\n",
      "epoch 2 ==================================================\n",
      "train_loss: 2.781796455383301\n",
      "Train Accuracy: 4.36%\n",
      "Test Accuracy: 3.42%\n",
      "\n",
      "epoch 3 ==================================================\n",
      "train_loss: 2.736419677734375\n",
      "Train Accuracy: 4.36%\n"
     ]
    },
    {
     "name": "stderr",
     "output_type": "stream",
     "text": [
      "\n",
      "KeyboardInterrupt\n",
      "\n"
     ]
    }
   ],
   "source": [
    "train_dataloader = DataLoader(train_set, batch_size=batch_size, shuffle=True)\n",
    "test_dataloader = DataLoader(test_set, batch_size=batch_size, shuffle=False)\n",
    "train_losses = []\n",
    "test_losses = []\n",
    "\n",
    "for i in range(1, epochs+1):\n",
    "    print(f'epoch {i}', '='*50)\n",
    "    train_loop(train_dataloader, model, loss_fn, optimizer, train_losses=train_losses, save_losses=True)\n",
    "    test_loop(test_dataloader, model, loss_fn, test_losses=test_losses, save_losses=True)\n",
    "    print()"
   ]
  },
  {
   "cell_type": "code",
   "execution_count": null,
   "id": "274e05ef",
   "metadata": {},
   "outputs": [],
   "source": [
    "plt.plot(train_losses)\n",
    "plt.plot(test_losses)"
   ]
  }
 ],
 "metadata": {
  "kernelspec": {
   "display_name": "DL_env",
   "language": "python",
   "name": "dl_env"
  },
  "language_info": {
   "codemirror_mode": {
    "name": "ipython",
    "version": 3
   },
   "file_extension": ".py",
   "mimetype": "text/x-python",
   "name": "python",
   "nbconvert_exporter": "python",
   "pygments_lexer": "ipython3",
   "version": "3.10.6"
  }
 },
 "nbformat": 4,
 "nbformat_minor": 5
}
